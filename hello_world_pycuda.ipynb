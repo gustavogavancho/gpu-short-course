{
  "cells": [
    {
      "cell_type": "markdown",
      "id": "aef81aca-6af9-4b81-887e-1e8fea7ce039",
      "metadata": {
        "id": "aef81aca-6af9-4b81-887e-1e8fea7ce039",
        "outputId": "9470764f-06db-4599-a866-d11b788f2fb8"
      },
      "source": [
        "# GPU Hello World"
      ]
    },
    {
      "cell_type": "markdown",
      "id": "19bd2f72-ea13-4da6-8860-5a987ceb13f9",
      "metadata": {
        "id": "19bd2f72-ea13-4da6-8860-5a987ceb13f9"
      },
      "source": [
        "### Task 3"
      ]
    },
    {
      "cell_type": "markdown",
      "id": "aed767a3-7222-427e-b455-1877aa5c91ca",
      "metadata": {
        "id": "aed767a3-7222-427e-b455-1877aa5c91ca"
      },
      "source": [
        "1. Make a NumPy matrix\n",
        "2. Install, import and initialize PyCUDA\n",
        "3. Make a GPU matrix\n",
        "4. Copy the NumPy matrix data to the GPU\n",
        "5. Write a GPU *kernel* that does some kind of computation on an input matrix\n",
        "6. Copy the result back to the CPU\n",
        "7. Print and plot both matrices"
      ]
    },
    {
      "cell_type": "markdown",
      "id": "a5135a1b-ed40-4a05-b2cb-a42d8a6b9092",
      "metadata": {
        "id": "a5135a1b-ed40-4a05-b2cb-a42d8a6b9092"
      },
      "source": [
        "### Solution 3"
      ]
    },
    {
      "cell_type": "markdown",
      "id": "465cf785-0bbc-4891-a5bf-bbf78ce0d39c",
      "metadata": {
        "id": "465cf785-0bbc-4891-a5bf-bbf78ce0d39c"
      },
      "source": [
        "<-- see `hello_world_pycuda_solution.ipynb`"
      ]
    },
    {
      "cell_type": "code",
      "execution_count": 1,
      "id": "c93bb170-2963-40f4-bd47-41d208fa7e64",
      "metadata": {
        "id": "c93bb170-2963-40f4-bd47-41d208fa7e64",
        "outputId": "08c836a6-511a-4b29-8e47-18d1b9f89ee0",
        "colab": {
          "base_uri": "https://localhost:8080/"
        }
      },
      "outputs": [
        {
          "output_type": "stream",
          "name": "stdout",
          "text": [
            "Hello world\n"
          ]
        }
      ],
      "source": [
        "print(\"Hello world\")"
      ]
    },
    {
      "cell_type": "code",
      "source": [
        "i = 9"
      ],
      "metadata": {
        "id": "R1xWhBpv9bD1"
      },
      "id": "R1xWhBpv9bD1",
      "execution_count": 4,
      "outputs": []
    },
    {
      "cell_type": "code",
      "source": [
        "i = i + 2"
      ],
      "metadata": {
        "id": "P0--pHl_9-Ne"
      },
      "id": "P0--pHl_9-Ne",
      "execution_count": 5,
      "outputs": []
    },
    {
      "cell_type": "code",
      "source": [
        "print(i)"
      ],
      "metadata": {
        "id": "gtRkhjO2-A2C",
        "outputId": "2275583e-4f5f-40db-fe28-89c8611ed34c",
        "colab": {
          "base_uri": "https://localhost:8080/"
        }
      },
      "id": "gtRkhjO2-A2C",
      "execution_count": 6,
      "outputs": [
        {
          "output_type": "stream",
          "name": "stdout",
          "text": [
            "11\n"
          ]
        }
      ]
    },
    {
      "cell_type": "code",
      "source": [
        "!nvidia-smi"
      ],
      "metadata": {
        "id": "Fx7-wKm1-QGx",
        "outputId": "6bd4acc0-f38d-4a2c-bbb2-bc0e37eed258",
        "colab": {
          "base_uri": "https://localhost:8080/"
        }
      },
      "id": "Fx7-wKm1-QGx",
      "execution_count": 7,
      "outputs": [
        {
          "output_type": "stream",
          "name": "stdout",
          "text": [
            "Thu Jan 23 16:22:40 2025       \n",
            "+---------------------------------------------------------------------------------------+\n",
            "| NVIDIA-SMI 535.104.05             Driver Version: 535.104.05   CUDA Version: 12.2     |\n",
            "|-----------------------------------------+----------------------+----------------------+\n",
            "| GPU  Name                 Persistence-M | Bus-Id        Disp.A | Volatile Uncorr. ECC |\n",
            "| Fan  Temp   Perf          Pwr:Usage/Cap |         Memory-Usage | GPU-Util  Compute M. |\n",
            "|                                         |                      |               MIG M. |\n",
            "|=========================================+======================+======================|\n",
            "|   0  Tesla T4                       Off | 00000000:00:04.0 Off |                    0 |\n",
            "| N/A   36C    P8               9W /  70W |      0MiB / 15360MiB |      0%      Default |\n",
            "|                                         |                      |                  N/A |\n",
            "+-----------------------------------------+----------------------+----------------------+\n",
            "                                                                                         \n",
            "+---------------------------------------------------------------------------------------+\n",
            "| Processes:                                                                            |\n",
            "|  GPU   GI   CI        PID   Type   Process name                            GPU Memory |\n",
            "|        ID   ID                                                             Usage      |\n",
            "|=======================================================================================|\n",
            "|  No running processes found                                                           |\n",
            "+---------------------------------------------------------------------------------------+\n"
          ]
        }
      ]
    },
    {
      "cell_type": "code",
      "source": [
        "%%time\n",
        "!pip install pycuda"
      ],
      "metadata": {
        "id": "1Zz5Vy189Qa2",
        "outputId": "bb6a01c9-b931-4f8a-a9f1-9439709fb5d1",
        "colab": {
          "base_uri": "https://localhost:8080/"
        }
      },
      "id": "1Zz5Vy189Qa2",
      "execution_count": 2,
      "outputs": [
        {
          "output_type": "stream",
          "name": "stdout",
          "text": [
            "Collecting pycuda\n",
            "  Downloading pycuda-2024.1.2.tar.gz (1.7 MB)\n",
            "\u001b[?25l     \u001b[90m━━━━━━━━━━━━━━━━━━━━━━━━━━━━━━━━━━━━━━━━\u001b[0m \u001b[32m0.0/1.7 MB\u001b[0m \u001b[31m?\u001b[0m eta \u001b[36m-:--:--\u001b[0m\r\u001b[2K     \u001b[90m━━━━━━━━━━━━━━━━━━━━━━━━━━━━━━━━━━━━━━━━\u001b[0m \u001b[32m1.7/1.7 MB\u001b[0m \u001b[31m66.9 MB/s\u001b[0m eta \u001b[36m0:00:00\u001b[0m\n",
            "\u001b[?25h  Installing build dependencies ... \u001b[?25l\u001b[?25hdone\n",
            "  Getting requirements to build wheel ... \u001b[?25l\u001b[?25hdone\n",
            "  Preparing metadata (pyproject.toml) ... \u001b[?25l\u001b[?25hdone\n",
            "Collecting pytools>=2011.2 (from pycuda)\n",
            "  Downloading pytools-2025.1.1-py3-none-any.whl.metadata (3.0 kB)\n",
            "Requirement already satisfied: platformdirs>=2.2.0 in /usr/local/lib/python3.11/dist-packages (from pycuda) (4.3.6)\n",
            "Collecting mako (from pycuda)\n",
            "  Downloading Mako-1.3.8-py3-none-any.whl.metadata (2.9 kB)\n",
            "Requirement already satisfied: typing-extensions>=4.5 in /usr/local/lib/python3.11/dist-packages (from pytools>=2011.2->pycuda) (4.12.2)\n",
            "Requirement already satisfied: MarkupSafe>=0.9.2 in /usr/local/lib/python3.11/dist-packages (from mako->pycuda) (3.0.2)\n",
            "Downloading pytools-2025.1.1-py3-none-any.whl (92 kB)\n",
            "\u001b[2K   \u001b[90m━━━━━━━━━━━━━━━━━━━━━━━━━━━━━━━━━━━━━━━━\u001b[0m \u001b[32m92.8/92.8 kB\u001b[0m \u001b[31m10.7 MB/s\u001b[0m eta \u001b[36m0:00:00\u001b[0m\n",
            "\u001b[?25hDownloading Mako-1.3.8-py3-none-any.whl (78 kB)\n",
            "\u001b[2K   \u001b[90m━━━━━━━━━━━━━━━━━━━━━━━━━━━━━━━━━━━━━━━━\u001b[0m \u001b[32m78.6/78.6 kB\u001b[0m \u001b[31m9.1 MB/s\u001b[0m eta \u001b[36m0:00:00\u001b[0m\n",
            "\u001b[?25hBuilding wheels for collected packages: pycuda\n",
            "  Building wheel for pycuda (pyproject.toml) ... \u001b[?25l\u001b[?25hdone\n",
            "  Created wheel for pycuda: filename=pycuda-2024.1.2-cp311-cp311-linux_x86_64.whl size=660362 sha256=a1dc38a6a967a4a2469b9ee26c18567a4d8d5f259ab61b48582454ff327ce89c\n",
            "  Stored in directory: /root/.cache/pip/wheels/76/66/50/c65e6116d7e0e16abe0f7c19b50327f76724ccfefbdc61a1b9\n",
            "Successfully built pycuda\n",
            "Installing collected packages: pytools, mako, pycuda\n",
            "Successfully installed mako-1.3.8 pycuda-2024.1.2 pytools-2025.1.1\n",
            "CPU times: user 729 ms, sys: 108 ms, total: 838 ms\n",
            "Wall time: 2min 22s\n"
          ]
        }
      ]
    },
    {
      "cell_type": "code",
      "source": [
        "#Import pycuda and specific submodules\n",
        "\n",
        "import pycuda\n",
        "import pycuda.driver as cuda\n",
        "from pycuda.compiler import SourceModule"
      ],
      "metadata": {
        "id": "-VFxmEyM_kAk"
      },
      "id": "-VFxmEyM_kAk",
      "execution_count": 8,
      "outputs": []
    },
    {
      "cell_type": "code",
      "source": [
        "#Remember to initialize CUDA!!!\n",
        "import pycuda.autoinit"
      ],
      "metadata": {
        "id": "jnn7t3VVAVPO"
      },
      "id": "jnn7t3VVAVPO",
      "execution_count": 9,
      "outputs": []
    },
    {
      "cell_type": "code",
      "source": [
        "#import Numpy to generate numbers on the CPU\n",
        "import numpy as np"
      ],
      "metadata": {
        "id": "l9qHXC_9AY0a"
      },
      "id": "l9qHXC_9AY0a",
      "execution_count": 10,
      "outputs": []
    },
    {
      "cell_type": "code",
      "source": [
        "#First, generate some random numbers on the CPU\n",
        "a = np.random.randn(4,4).astype(dtype=np.float32)\n",
        "print(a)"
      ],
      "metadata": {
        "id": "rIBzAOOgAa4e",
        "outputId": "6f7d50dc-4b5e-4ef8-d78a-1dee029d85ab",
        "colab": {
          "base_uri": "https://localhost:8080/"
        }
      },
      "id": "rIBzAOOgAa4e",
      "execution_count": 11,
      "outputs": [
        {
          "output_type": "stream",
          "name": "stdout",
          "text": [
            "[[ 0.98832494 -0.6792337   0.40006799  0.930256  ]\n",
            " [ 1.8090439   0.26812035 -0.8391215  -1.0884448 ]\n",
            " [ 1.1061832  -0.2878027  -0.2635892  -0.54905486]\n",
            " [ 0.8695573   0.14726733  0.11836702  0.12111064]]\n"
          ]
        }
      ]
    },
    {
      "cell_type": "code",
      "source": [
        "#Print some information about a:\n",
        "print(a.dtype)\n",
        "print(a.nbytes)"
      ],
      "metadata": {
        "id": "2gcWXCqyAezS",
        "outputId": "cadbd715-bf0e-45a5-ae21-33658e311b02",
        "colab": {
          "base_uri": "https://localhost:8080/"
        }
      },
      "id": "2gcWXCqyAezS",
      "execution_count": 12,
      "outputs": [
        {
          "output_type": "stream",
          "name": "stdout",
          "text": [
            "float32\n",
            "64\n"
          ]
        }
      ]
    },
    {
      "cell_type": "code",
      "source": [
        "#Double check if size makes sense:\n",
        "a_num_elements = 4*4\n",
        "num_bytes_per_element = 4 #NB: single precision is 4 bytes, double 8\n",
        "print(a_num_elements*num_bytes_per_element)"
      ],
      "metadata": {
        "id": "6GfopHAFAfhe",
        "outputId": "fe6480ff-7c99-44e5-8165-41425676675d",
        "colab": {
          "base_uri": "https://localhost:8080/"
        }
      },
      "id": "6GfopHAFAfhe",
      "execution_count": 13,
      "outputs": [
        {
          "output_type": "stream",
          "name": "stdout",
          "text": [
            "64\n"
          ]
        }
      ]
    },
    {
      "cell_type": "code",
      "source": [
        "#Transfer the data to the GPU (and allocate data there)\n",
        "a_gpu = cuda.mem_alloc(a.nbytes)"
      ],
      "metadata": {
        "id": "FYRLzsdsAhsf"
      },
      "id": "FYRLzsdsAhsf",
      "execution_count": 14,
      "outputs": []
    },
    {
      "cell_type": "code",
      "source": [
        "#Copy data from host (cpu, numpy, a) to device (gpu, pycuda, a_gpu)\n",
        "cuda.memcpy_htod(a_gpu, a)"
      ],
      "metadata": {
        "id": "tmvR4ZRHAlvd"
      },
      "id": "tmvR4ZRHAlvd",
      "execution_count": 15,
      "outputs": []
    },
    {
      "cell_type": "code",
      "source": [
        "kernel_src = \"\"\"\n",
        "//Important: This expects a_gpu to be single precision numbers,\n",
        "//           not double precision\n",
        "__global__ void double_a(float* a_gpu) {\n",
        "    int tid = threadIdx.x + threadIdx.y * 4;\n",
        "\n",
        "    a_gpu[tid] = a_gpu[tid]*2;\n",
        "}\n",
        "\"\"\"\n",
        "\n",
        "mod = SourceModule(kernel_src) #Create the source module from the source code\n",
        "func = mod.get_function(\"double_a\") #Get the compiled function double_a from the source code"
      ],
      "metadata": {
        "id": "3QImChjIAnjP"
      },
      "id": "3QImChjIAnjP",
      "execution_count": 16,
      "outputs": []
    },
    {
      "cell_type": "code",
      "source": [
        "func(a_gpu, block=(4,4,1),grid=(1,1,1))"
      ],
      "metadata": {
        "id": "TNJGhPOBCYHT"
      },
      "id": "TNJGhPOBCYHT",
      "execution_count": 17,
      "outputs": []
    },
    {
      "cell_type": "code",
      "source": [
        "#print out what a_gpu is:\n",
        "b = np.empty_like(a) #create an empty array equal in datatype and size to al\n",
        "cuda.memcpy_dtoh(b, a_gpu)\n",
        "\n",
        "print(a)\n",
        "print(b)\n",
        "\n",
        "print(2*a-b)"
      ],
      "metadata": {
        "id": "LCi4ObvMCYsC",
        "outputId": "0710671e-97ba-4540-afc8-e30ad2eb64da",
        "colab": {
          "base_uri": "https://localhost:8080/"
        }
      },
      "id": "LCi4ObvMCYsC",
      "execution_count": 18,
      "outputs": [
        {
          "output_type": "stream",
          "name": "stdout",
          "text": [
            "[[ 0.98832494 -0.6792337   0.40006799  0.930256  ]\n",
            " [ 1.8090439   0.26812035 -0.8391215  -1.0884448 ]\n",
            " [ 1.1061832  -0.2878027  -0.2635892  -0.54905486]\n",
            " [ 0.8695573   0.14726733  0.11836702  0.12111064]]\n",
            "[[ 1.9766499  -1.3584673   0.80013597  1.860512  ]\n",
            " [ 3.6180878   0.5362407  -1.678243   -2.1768897 ]\n",
            " [ 2.2123663  -0.5756054  -0.5271784  -1.0981097 ]\n",
            " [ 1.7391146   0.29453465  0.23673403  0.24222128]]\n",
            "[[0. 0. 0. 0.]\n",
            " [0. 0. 0. 0.]\n",
            " [0. 0. 0. 0.]\n",
            " [0. 0. 0. 0.]]\n"
          ]
        }
      ]
    },
    {
      "cell_type": "code",
      "source": [
        "from matplotlib import pyplot as plt"
      ],
      "metadata": {
        "id": "hwsqKCIPCdm_"
      },
      "id": "hwsqKCIPCdm_",
      "execution_count": 19,
      "outputs": []
    },
    {
      "cell_type": "code",
      "source": [
        "print(a[0,:])\n",
        "print(b[0,:])\n",
        "\n",
        "plt.plot(a[0,:], label='a')\n",
        "plt.plot(b[0,:], label='b')\n",
        "plt.legend()\n",
        "plt.title('Publish this graph')"
      ],
      "metadata": {
        "id": "RV037r0LCeQ3",
        "outputId": "aacfcd4a-9a6a-4637-dbd4-111b187d800c",
        "colab": {
          "base_uri": "https://localhost:8080/",
          "height": 504
        }
      },
      "id": "RV037r0LCeQ3",
      "execution_count": 20,
      "outputs": [
        {
          "output_type": "stream",
          "name": "stdout",
          "text": [
            "[ 0.98832494 -0.6792337   0.40006799  0.930256  ]\n",
            "[ 1.9766499  -1.3584673   0.80013597  1.860512  ]\n"
          ]
        },
        {
          "output_type": "execute_result",
          "data": {
            "text/plain": [
              "Text(0.5, 1.0, 'Publish this graph')"
            ]
          },
          "metadata": {},
          "execution_count": 20
        },
        {
          "output_type": "display_data",
          "data": {
            "text/plain": [
              "<Figure size 640x480 with 1 Axes>"
            ],
            "image/png": "[encoded data removed]"
          },
          "metadata": {}
        }
      ]
    },
    {
      "cell_type": "code",
      "source": [],
      "metadata": {
        "id": "c-aCAddrCgZJ"
      },
      "id": "c-aCAddrCgZJ",
      "execution_count": null,
      "outputs": []
    }
  ],
  "metadata": {
    "accelerator": "GPU",
    "colab": {
      "gpuType": "T4",
      "provenance": []
    },
    "kernelspec": {
      "display_name": "Python 3 (ipykernel)",
      "language": "python",
      "name": "python3"
    },
    "language_info": {
      "codemirror_mode": {
        "name": "ipython",
        "version": 3
      },
      "file_extension": ".py",
      "mimetype": "text/x-python",
      "name": "python",
      "nbconvert_exporter": "python",
      "pygments_lexer": "ipython3",
      "version": "3.11.6"
    }
  },
  "nbformat": 4,
  "nbformat_minor": 5
}