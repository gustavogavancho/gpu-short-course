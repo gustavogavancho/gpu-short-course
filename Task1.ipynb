{
 "cells": [
  {
   "cell_type": "code",
   "execution_count": null,
   "id": "e755974a-1099-4746-bc06-9201da76f552",
   "metadata": {},
   "outputs": [],
   "source": [
    "# Task 1.5\n",
    "\n",
    "import numpy as np\n",
    "\n",
    "x = np.linspace(-1, 1, 20)\n",
    "\n",
    "# Task 1.6\n",
    "\n",
    "import matplotlib.pyplot as plt\n",
    "\n",
    "def f(x):\n",
    "    return x*x\n",
    "\n",
    "plt.plot(x, f(x))\n",
    "\n",
    "def g(x):\n",
    "    return 2*x\n",
    "\n",
    "plt.plot(x, g(x))\n",
    "plt.grid(\"on\")"
   ]
  }
 ],
 "metadata": {
  "kernelspec": {
   "display_name": "Python 3 (ipykernel)",
   "language": "python",
   "name": "python3"
  },
  "language_info": {
   "codemirror_mode": {
    "name": "ipython",
    "version": 3
   },
   "file_extension": ".py",
   "mimetype": "text/x-python",
   "name": "python",
   "nbconvert_exporter": "python",
   "pygments_lexer": "ipython3",
   "version": "3.13.0"
  }
 },
 "nbformat": 4,
 "nbformat_minor": 5
}
