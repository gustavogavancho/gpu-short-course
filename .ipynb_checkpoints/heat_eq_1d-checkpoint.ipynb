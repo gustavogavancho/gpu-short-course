{
 "cells": [
  {
   "cell_type": "markdown",
   "id": "a697d038-f019-4626-b9ff-7c70df7d50ca",
   "metadata": {},
   "source": [
    "# Exercise 2: Simulating heat diffusion on the GPU"
   ]
  },
  {
   "cell_type": "markdown",
   "id": "5b6d512b-fbb2-4405-9650-5d967a9df417",
   "metadata": {},
   "source": [
    "## Tasks"
   ]
  },
  {
   "cell_type": "markdown",
   "id": "47465d12-e53d-4771-a1cf-5aea6bbb71d5",
   "metadata": {},
   "source": [
    "We are going to solve the heat equation, which is\n",
    "$\n",
    "\\frac{\\partial u}{\\partial t} = \\kappa \\frac{\\partial^2 u}{\\partial x^2}\n",
    "$\n",
    "\n",
    "We need to do the following: \n",
    "* Create variables u0 and u1. u0 are the \"old\" temperatures, u1 are the new temperatures.\n",
    "* Initialize the original temperature\n",
    "* In a for-loop, solve the heat equation one timestep at a time\n",
    "* Plot after x timesteps"
   ]
  },
  {
   "cell_type": "markdown",
   "id": "56aa559c-97b4-4bc1-8df0-7ad4e4de19d1",
   "metadata": {},
   "source": [
    "## Solution"
   ]
  },
  {
   "cell_type": "markdown",
   "id": "739af59d-debd-4824-bb5a-7cb07b73c92d",
   "metadata": {},
   "source": [
    "<-- see `heat_eq_1d_solution.ipynb`"
   ]
  },
  {
   "cell_type": "code",
   "execution_count": null,
   "id": "eef818d0-3b89-4c0f-b9be-17fdb0a0c2b5",
   "metadata": {},
   "outputs": [],
   "source": []
  }
 ],
 "metadata": {
  "kernelspec": {
   "display_name": "Python 3 (ipykernel)",
   "language": "python",
   "name": "python3"
  },
  "language_info": {
   "codemirror_mode": {
    "name": "ipython",
    "version": 3
   },
   "file_extension": ".py",
   "mimetype": "text/x-python",
   "name": "python",
   "nbconvert_exporter": "python",
   "pygments_lexer": "ipython3",
   "version": "3.12.4"
  }
 },
 "nbformat": 4,
 "nbformat_minor": 5
}
