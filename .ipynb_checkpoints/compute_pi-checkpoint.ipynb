{
 "cells": [
  {
   "cell_type": "markdown",
   "id": "73f1c8ad-64f2-488f-a034-f42d29a8ba07",
   "metadata": {},
   "source": [
    "# Exercise 1: Compute pi on the GPU"
   ]
  },
  {
   "cell_type": "markdown",
   "id": "04fdc4bd-3ac2-42ab-a602-3dc20dbf1f5b",
   "metadata": {},
   "source": [
    "## Tasks"
   ]
  },
  {
   "cell_type": "markdown",
   "id": "251f5223-3ef3-4fbb-b0ea-d02830aed277",
   "metadata": {},
   "source": [
    "1. Write a CPU-program that computes pi using geometry and statistics\n",
    "2. Port this program to the GPU\n",
    "3. Optimize"
   ]
  },
  {
   "cell_type": "markdown",
   "id": "3af192b8-fc97-4c04-90b0-d683c8a0ad32",
   "metadata": {},
   "source": [
    "## Solution"
   ]
  },
  {
   "cell_type": "markdown",
   "id": "09edb316-eaba-4815-85d3-67c778d69290",
   "metadata": {},
   "source": [
    "<-- see `compute_pi_solution.ipynb`"
   ]
  },
  {
   "cell_type": "code",
   "execution_count": null,
   "id": "afde457d-2bd5-492b-9d30-7443a64a686c",
   "metadata": {},
   "outputs": [],
   "source": []
  }
 ],
 "metadata": {
  "kernelspec": {
   "display_name": "Python 3 (ipykernel)",
   "language": "python",
   "name": "python3"
  },
  "language_info": {
   "codemirror_mode": {
    "name": "ipython",
    "version": 3
   },
   "file_extension": ".py",
   "mimetype": "text/x-python",
   "name": "python",
   "nbconvert_exporter": "python",
   "pygments_lexer": "ipython3",
   "version": "3.11.6"
  }
 },
 "nbformat": 4,
 "nbformat_minor": 5
}
