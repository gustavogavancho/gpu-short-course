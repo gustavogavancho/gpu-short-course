{
 "cells": [
  {
   "cell_type": "markdown",
   "id": "aef81aca-6af9-4b81-887e-1e8fea7ce039",
   "metadata": {
    "colab": {
     "base_uri": "https://localhost:8080/"
    },
    "id": "bda5d8cc-69fc-4135-b7d5-a63cb41ab409",
    "outputId": "9470764f-06db-4599-a866-d11b788f2fb8"
   },
   "source": [
    "# GPU Hello World"
   ]
  },
  {
   "cell_type": "markdown",
   "id": "19bd2f72-ea13-4da6-8860-5a987ceb13f9",
   "metadata": {},
   "source": [
    "### Task 3"
   ]
  },
  {
   "cell_type": "markdown",
   "id": "aed767a3-7222-427e-b455-1877aa5c91ca",
   "metadata": {},
   "source": [
    "1. Make a NumPy matrix\n",
    "2. Install, import and initialize PyCUDA\n",
    "3. Make a GPU matrix\n",
    "4. Copy the NumPy matrix data to the GPU\n",
    "5. Write a GPU *kernel* that does some kind of computation on an input matrix\n",
    "6. Copy the result back to the CPU\n",
    "7. Print and plot both matrices"
   ]
  },
  {
   "cell_type": "markdown",
   "id": "a5135a1b-ed40-4a05-b2cb-a42d8a6b9092",
   "metadata": {},
   "source": [
    "### Solution 3"
   ]
  },
  {
   "cell_type": "markdown",
   "id": "465cf785-0bbc-4891-a5bf-bbf78ce0d39c",
   "metadata": {},
   "source": [
    "<-- see `hello_world_pycuda_solution.ipynb`"
   ]
  },
  {
   "cell_type": "code",
   "execution_count": null,
   "id": "c93bb170-2963-40f4-bd47-41d208fa7e64",
   "metadata": {},
   "outputs": [],
   "source": []
  }
 ],
 "metadata": {
  "accelerator": "GPU",
  "colab": {
   "gpuType": "T4",
   "provenance": []
  },
  "kernelspec": {
   "display_name": "Python 3 (ipykernel)",
   "language": "python",
   "name": "python3"
  },
  "language_info": {
   "codemirror_mode": {
    "name": "ipython",
    "version": 3
   },
   "file_extension": ".py",
   "mimetype": "text/x-python",
   "name": "python",
   "nbconvert_exporter": "python",
   "pygments_lexer": "ipython3",
   "version": "3.11.6"
  }
 },
 "nbformat": 4,
 "nbformat_minor": 5
}
